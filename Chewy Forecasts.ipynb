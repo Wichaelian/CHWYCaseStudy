{
 "cells": [
  {
   "cell_type": "code",
   "execution_count": 38,
   "metadata": {},
   "outputs": [],
   "source": [
    "import numpy as np\n",
    "import pandas as pd\n",
    "import matplotlib.pyplot as plt\n",
    "from sklearn.linear_model import LinearRegression"
   ]
  },
  {
   "cell_type": "code",
   "execution_count": 37,
   "metadata": {},
   "outputs": [
    {
     "data": {
      "image/png": "[encoded data removed]",
      "text/plain": [
       "<Figure size 720x576 with 1 Axes>"
      ]
     },
     "metadata": {
      "needs_background": "light"
     },
     "output_type": "display_data"
    },
    {
     "data": {
      "text/html": [
       "<div>\n",
       "<style scoped>\n",
       "    .dataframe tbody tr th:only-of-type {\n",
       "        vertical-align: middle;\n",
       "    }\n",
       "\n",
       "    .dataframe tbody tr th {\n",
       "        vertical-align: top;\n",
       "    }\n",
       "\n",
       "    .dataframe thead th {\n",
       "        text-align: right;\n",
       "    }\n",
       "</style>\n",
       "<table border=\"1\" class=\"dataframe\">\n",
       "  <thead>\n",
       "    <tr style=\"text-align: right;\">\n",
       "      <th></th>\n",
       "      <th>Chewy</th>\n",
       "      <th>PetSmart</th>\n",
       "      <th>PETCO</th>\n",
       "      <th>Others</th>\n",
       "    </tr>\n",
       "  </thead>\n",
       "  <tbody>\n",
       "    <tr>\n",
       "      <td>0</td>\n",
       "      <td>0.071589</td>\n",
       "      <td>0.049600</td>\n",
       "      <td>0.048801</td>\n",
       "      <td>0.830010</td>\n",
       "    </tr>\n",
       "    <tr>\n",
       "      <td>1</td>\n",
       "      <td>0.074126</td>\n",
       "      <td>0.055601</td>\n",
       "      <td>0.057616</td>\n",
       "      <td>0.812658</td>\n",
       "    </tr>\n",
       "    <tr>\n",
       "      <td>2</td>\n",
       "      <td>0.075563</td>\n",
       "      <td>0.059845</td>\n",
       "      <td>0.064442</td>\n",
       "      <td>0.800151</td>\n",
       "    </tr>\n",
       "    <tr>\n",
       "      <td>3</td>\n",
       "      <td>0.076342</td>\n",
       "      <td>0.062842</td>\n",
       "      <td>0.069732</td>\n",
       "      <td>0.791086</td>\n",
       "    </tr>\n",
       "    <tr>\n",
       "      <td>4</td>\n",
       "      <td>0.076734</td>\n",
       "      <td>0.064954</td>\n",
       "      <td>0.073835</td>\n",
       "      <td>0.784480</td>\n",
       "    </tr>\n",
       "    <tr>\n",
       "      <td>...</td>\n",
       "      <td>...</td>\n",
       "      <td>...</td>\n",
       "      <td>...</td>\n",
       "      <td>...</td>\n",
       "    </tr>\n",
       "    <tr>\n",
       "      <td>96</td>\n",
       "      <td>0.076502</td>\n",
       "      <td>0.069806</td>\n",
       "      <td>0.088160</td>\n",
       "      <td>0.765606</td>\n",
       "    </tr>\n",
       "    <tr>\n",
       "      <td>97</td>\n",
       "      <td>0.076502</td>\n",
       "      <td>0.069806</td>\n",
       "      <td>0.088160</td>\n",
       "      <td>0.765607</td>\n",
       "    </tr>\n",
       "    <tr>\n",
       "      <td>98</td>\n",
       "      <td>0.076502</td>\n",
       "      <td>0.069806</td>\n",
       "      <td>0.088160</td>\n",
       "      <td>0.765607</td>\n",
       "    </tr>\n",
       "    <tr>\n",
       "      <td>99</td>\n",
       "      <td>0.076502</td>\n",
       "      <td>0.069806</td>\n",
       "      <td>0.088160</td>\n",
       "      <td>0.765608</td>\n",
       "    </tr>\n",
       "    <tr>\n",
       "      <td>100</td>\n",
       "      <td>0.076502</td>\n",
       "      <td>0.069806</td>\n",
       "      <td>0.088160</td>\n",
       "      <td>0.765608</td>\n",
       "    </tr>\n",
       "  </tbody>\n",
       "</table>\n",
       "<p>101 rows × 4 columns</p>\n",
       "</div>"
      ],
      "text/plain": [
       "        Chewy  PetSmart     PETCO    Others\n",
       "0    0.071589  0.049600  0.048801  0.830010\n",
       "1    0.074126  0.055601  0.057616  0.812658\n",
       "2    0.075563  0.059845  0.064442  0.800151\n",
       "3    0.076342  0.062842  0.069732  0.791086\n",
       "4    0.076734  0.064954  0.073835  0.784480\n",
       "..        ...       ...       ...       ...\n",
       "96   0.076502  0.069806  0.088160  0.765606\n",
       "97   0.076502  0.069806  0.088160  0.765607\n",
       "98   0.076502  0.069806  0.088160  0.765607\n",
       "99   0.076502  0.069806  0.088160  0.765608\n",
       "100  0.076502  0.069806  0.088160  0.765608\n",
       "\n",
       "[101 rows x 4 columns]"
      ]
     },
     "execution_count": 37,
     "metadata": {},
     "output_type": "execute_result"
    }
   ],
   "source": [
    "#Market share forecasting with Markov chain\n",
    "firms = [\"Chewy\", \"PetSmart\", \"PETCO\", \"Others\"]\n",
    "market_share = np.array([[0.071589, 0.0496, 0.048801, 0.83001]])\n",
    "share_history = market_share\n",
    "transition = np.array([[0.67, 0.01763, 0.017346, 0.295024],\n",
    "                       [0.019321, 0.743494, 0.013171, 0.224014],\n",
    "                       [0.015052, 0.010429, 0.8, 0.174519],\n",
    "                       [0.02948, 0.020425, 0.020096, 0.93]])\n",
    "\n",
    "for i in range(100):\n",
    "    market_share = np.dot(market_share, transition)\n",
    "    share_history = np.append(share_history, market_share, axis=0)\n",
    "\n",
    "dfMarketDistribution = pd.DataFrame(share_history)\n",
    "dfMarketDistribution.columns = firms\n",
    "dfMarketDistribution.plot(figsize = (10, 8))\n",
    "plt.ylabel(\"Market Share\")\n",
    "plt.xlabel(\"Time Units\")\n",
    "plt.show()\n",
    "dfMarketDistribution\n"
   ]
  },
  {
   "cell_type": "code",
   "execution_count": 82,
   "metadata": {},
   "outputs": [
    {
     "name": "stdout",
     "output_type": "stream",
     "text": [
      "Pet Spending = 0.004178584748529153*GDP + -15.207123535459239\n"
     ]
    }
   ],
   "source": [
    "#Pet Spending Market forecasting with linear regression\n",
    "gdp = np.array([7287, 7640, 8073, 8578, 9063, \n",
    "                9631, 10252, 10582, 10936, 11458, \n",
    "                12214, 13037, 13815, 14452, 14713, \n",
    "                14449, 14992, 15543, 16197, 16785, \n",
    "                17527, 18238, 18745, 19543]).reshape((-1, 1))\n",
    "pet_spending = np.array([17, 19, 21, 22, 23, \n",
    "                         24.83, 26.66, 28.5, 29.6, 32.4, \n",
    "                         34.4, 36.3, 38.5, 41.2, 43.2, \n",
    "                         45.53, 48.35, 50.96, 53.33, 55.72, \n",
    "                         58.04, 60.28, 66.75, 69.51])\n",
    "gdp18_21 = np.array([20612, 21433, 20933, 22675]).reshape((-1, 1))\n",
    "gdp_forecast = np.array([24004, 24893, 25790, 26720, 27659]).reshape((-1, 1))\n",
    "pet_spending18_21 = [90.5, 97.1, 103.6, 109.6]\n",
    "\n",
    "spending_model = LinearRegression().fit(gdp, pet_spending)\n",
    "print(\"Pet Spending = {}*GDP + {}\".format(spending_model.coef_[0], spending_model.intercept_))"
   ]
  },
  {
   "cell_type": "code",
   "execution_count": 73,
   "metadata": {},
   "outputs": [
    {
     "name": "stdout",
     "output_type": "stream",
     "text": [
      "Average difference: $25.93004366901736 bil\n"
     ]
    }
   ],
   "source": [
    "unadjusted = spending_model.predict(gdp18_21).tolist()\n",
    "unadjusted\n",
    "difference = []\n",
    "for i, val in enumerate(unadjusted):\n",
    "    difference.append(pet_spending18_21[i] - val)\n",
    "avg_dif = sum(difference) / 4\n",
    "print(\"Average difference: ${} bil\".format(avg_dif))"
   ]
  },
  {
   "cell_type": "code",
   "execution_count": 74,
   "metadata": {},
   "outputs": [
    {
     "name": "stdout",
     "output_type": "stream",
     "text": [
      "2022 Market Size: $111.02566843725188 bil\n",
      "2026 Market Size: $122.37470461425707 bil\n"
     ]
    }
   ],
   "source": [
    "long_term = spending_model.predict(gdp_forecast).tolist()\n",
    "long_term = [i + avg_dif for i in long_term]\n",
    "print(\"2022 Market Size: ${} bil\".format(long_term[0]))\n",
    "print(\"2026 Market Size: ${} bil\".format(long_term[3]))"
   ]
  },
  {
   "cell_type": "code",
   "execution_count": 66,
   "metadata": {},
   "outputs": [
    {
     "name": "stdout",
     "output_type": "stream",
     "text": [
      "CHWY 2021 Revenue Forecast: $8.384659919132647 bil\n",
      "CHWY 2022 Revenue Forecast: $8.493726935590661 bil\n",
      "CHWY 2023 Revenue Forecast: $8.777915026111334 bil\n",
      "CHWY 2024 Revenue Forecast: $9.064660489775049 bil\n",
      "CHWY 2025 Revenue Forecast: $9.361955117653817 bil\n",
      "CHWY 2026 Revenue Forecast: $9.662126790318508 bil\n"
     ]
    }
   ],
   "source": [
    "chwy_market_share = dfMarketDistribution.iloc[100][0]\n",
    "print(\"CHWY 2021 Revenue Forecast: ${} bil\".format(chwy_market_share * 109.6))\n",
    "for i, val in enumerate(long_term):\n",
    "    print(\"CHWY {} Revenue Forecast: ${} bil\".format(2022 + i, chwy_market_share * val))"
   ]
  },
  {
   "cell_type": "code",
   "execution_count": 83,
   "metadata": {},
   "outputs": [
    {
     "name": "stdout",
     "output_type": "stream",
     "text": [
      "Share-based Compensation Expense = -0.3377595335017814*Net Income + 0.2784049258792055*CHWY Price + 6.742106330550367\n"
     ]
    }
   ],
   "source": [
    "#Share-based compensation expense multivariate regression\n",
    "inputs = {\"Net Income\": [-29.55, -82.88, -79, -60.94, -47.87, -32.82, -32.85, 25.09, 38.72],\n",
    "         \"CHWY Price\": [34.99, 31.7, 24.15, 26.67, 42, 53.75, 62.13, 102.36, 80.23],\n",
    "         \"Share-based Compensation Expense\": [7.23, 43.78, 39.35, 45.88, 42.34, 37.8, 25.09, 23.98, 24.77]}\n",
    "dfInput = pd.DataFrame(inputs)\n",
    "\n",
    "share_model = LinearRegression().fit(dfInput[[\"Net Income\", \"CHWY Price\"]], dfInput[\"Share-based Compensation Expense\"])\n",
    "print(\"Share-based Compensation Expense = {}*Net Income + {}*CHWY Price + {}\".format(share_model.coef_[0], share_model.coef_[1], share_model.intercept_))"
   ]
  },
  {
   "cell_type": "code",
   "execution_count": 95,
   "metadata": {},
   "outputs": [
    {
     "name": "stdout",
     "output_type": "stream",
     "text": [
      "CHWY 2021 Share-based compensation Forecast: $-87.63660345744442 mil\n",
      "CHWY 2022 Share-based compensation Forecast: $-153.024341160814 mil\n",
      "CHWY 2023 Share-based compensation Forecast: $-238.57877429225036 mil\n",
      "CHWY 2024 Share-based compensation Forecast: $-297.39919691703085 mil\n",
      "CHWY 2025 Share-based compensation Forecast: $-359.08850900591983 mil\n",
      "CHWY 2026 Share-based compensation Forecast: $-422.81831752570554 mil\n"
     ]
    }
   ],
   "source": [
    "future_share_price = []\n",
    "price = 75.3\n",
    "for i in range(6):\n",
    "    price = price * 1.1\n",
    "    future_share_price.append(price)\n",
    "    \n",
    "future_inputs = {\"Net Income\": [347.7, 548.12, 808.93, 991.34, 1183.07, 1381.75],\n",
    "         \"CHWY Price\": future_share_price}\n",
    "\n",
    "dfFuture = pd.DataFrame(future_inputs)\n",
    "compensation = share_model.predict(dfFuture[[\"Net Income\", \"CHWY Price\"]]).tolist()\n",
    "for i, val in enumerate(compensation):\n",
    "    print(\"CHWY {} Share-based compensation Forecast: ${} mil\".format(2021 + i, val))"
   ]
  }
 ],
 "metadata": {
  "kernelspec": {
   "display_name": "Python 3",
   "language": "python",
   "name": "python3"
  },
  "language_info": {
   "codemirror_mode": {
    "name": "ipython",
    "version": 3
   },
   "file_extension": ".py",
   "mimetype": "text/x-python",
   "name": "python",
   "nbconvert_exporter": "python",
   "pygments_lexer": "ipython3",
   "version": "3.7.4"
  }
 },
 "nbformat": 4,
 "nbformat_minor": 2
}
